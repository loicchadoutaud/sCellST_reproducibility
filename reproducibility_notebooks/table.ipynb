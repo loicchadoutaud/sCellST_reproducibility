{
 "cells": [
  {
   "cell_type": "code",
   "id": "initial_id",
   "metadata": {
    "collapsed": true,
    "ExecuteTime": {
     "end_time": "2025-02-11T11:17:51.364368Z",
     "start_time": "2025-02-11T11:17:51.362404Z"
    }
   },
   "source": "import pandas as pd",
   "outputs": [],
   "execution_count": 1
  },
  {
   "metadata": {
    "ExecuteTime": {
     "end_time": "2025-02-11T12:38:15.281323Z",
     "start_time": "2025-02-11T12:38:15.274437Z"
    }
   },
   "cell_type": "code",
   "source": "df = pd.read_csv(\"../data/genes_marker_ovary.csv\")",
   "id": "1ba518dd85b79d67",
   "outputs": [],
   "execution_count": 45
  },
  {
   "metadata": {
    "ExecuteTime": {
     "end_time": "2025-02-11T12:38:15.602816Z",
     "start_time": "2025-02-11T12:38:15.595042Z"
    }
   },
   "cell_type": "code",
   "source": [
    "df = (\n",
    "    df[df[\"group\"].isin([\"fibroblast\", \"lymphocyte\", \"endothelial cell\", \"plasma cell\", \"fallopian tube secretory epithelial cell\"])]\n",
    "    .groupby(\"group\")[\"gene\"]\n",
    "    .apply(lambda x: \", \".join(sorted(x)))  # Sort genes and join as a string\n",
    "    .sort_index()  # Sort by index\n",
    ")\n",
    "\n",
    "# Rename index and column for better formatting\n",
    "df.index.name = \"cell type\"\n",
    "df.name = \"Top 20 genes\"\n",
    "\n",
    "# Generate LaTeX table\n",
    "print(df.to_latex(column_format=\"p{3cm}p{10cm}\"))"
   ],
   "id": "79fa86dfa99eaccd",
   "outputs": [
    {
     "name": "stdout",
     "output_type": "stream",
     "text": [
      "\\begin{tabular}{p{3cm}p{10cm}}\n",
      "\\toprule\n",
      " & Top 20 genes \\\\\n",
      "cell type &  \\\\\n",
      "\\midrule\n",
      "endothelial cell & A2M, ADGRL4, APP, CD34, CD93, CDH5, CLEC14A, COL4A1, COL4A2, EGFL7, ENG, GNG11, HSPG2, IGFBP7, INSR, PECAM1, RAMP2, SPARCL1, SPTBN1, VWF \\\\\n",
      "fallopian tube secretory epithelial cell & BCAM, CD24, CD9, CLDN3, DSP, ELF3, EPCAM, FOLR1, KRT18, KRT19, KRT7, KRT8, MAL2, MSLN, MUC1, RPL8, S100A13, SLPI, SPINT2, WFDC2 \\\\\n",
      "fibroblast & AEBP1, C1R, C1S, CALD1, COL1A1, COL1A2, COL3A1, COL5A1, COL5A2, COL6A1, COL6A2, COL6A3, CTHRC1, DCN, LGALS1, LUM, MMP2, PCOLCE, RARRES2, SPARC \\\\\n",
      "lymphocyte & ACAP1, BTG1, CCL5, CD2, CD3D, CD3E, CD3G, CD52, CD69, CORO1A, CXCR4, ETS1, EVL, GZMA, HCST, IL32, NKG7, PTPRC, TRAC, TSC22D3 \\\\\n",
      "plasma cell & CD79A, DERL3, FCRL5, FKBP11, FKBP2, HERPUD1, IGHG1, IGHG3, IGHG4, IGKC, JCHAIN, MZB1, PIM2, PRDX4, SEC11C, SPCS3, SSR4, TENT5C, TNFRSF17, XBP1 \\\\\n",
      "\\bottomrule\n",
      "\\end{tabular}\n",
      "\n"
     ]
    }
   ],
   "execution_count": 46
  },
  {
   "metadata": {},
   "cell_type": "code",
   "outputs": [],
   "execution_count": null,
   "source": "",
   "id": "3aa804fcfb51e51c"
  }
 ],
 "metadata": {
  "kernelspec": {
   "display_name": "Python 3",
   "language": "python",
   "name": "python3"
  },
  "language_info": {
   "codemirror_mode": {
    "name": "ipython",
    "version": 2
   },
   "file_extension": ".py",
   "mimetype": "text/x-python",
   "name": "python",
   "nbconvert_exporter": "python",
   "pygments_lexer": "ipython2",
   "version": "2.7.6"
  }
 },
 "nbformat": 4,
 "nbformat_minor": 5
}
